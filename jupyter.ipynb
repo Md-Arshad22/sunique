{
    "cells": [
        {
            "metadata": {},
            "cell_type": "code",
            "source": "\nimport os, types\nimport pandas as pd\nfrom botocore.client import Config\nimport ibm_boto3\n\ndef __iter__(self): return 0\n\n# @hidden_cell\n# The following code accesses a file in your IBM Cloud Object Storage. It includes your credentials.\n# You might want to remove those credentials before you share the notebook.\ncos_client = ibm_boto3.client(service_name='s3',\n    ibm_api_key_id='9xQp2rdg5fQWxW16UlaNYxeJZXDzHq-JqgzQAVQl28Gs',\n    ibm_auth_endpoint=\"https://iam.cloud.ibm.com/oidc/token\",\n    config=Config(signature_version='oauth'),\n    endpoint_url='https://s3.private.eu-gb.cloud-object-storage.appdomain.cloud')\n\nbucket = 'arshad-donotdelete-pr-hidicug8ckpwey'\nobject_key = 'Online.csv'\n\nbody = cos_client.get_object(Bucket=bucket,Key=object_key)['Body']\n# add missing __iter__ method, so pandas accepts body as file-like object\nif not hasattr(body, \"__iter__\"): body.__iter__ = types.MethodType( __iter__, body )\n\ndf_data_1 = pd.read_csv(body)\ndf_data_1.head()\n\n",
            "execution_count": 1,
            "outputs": [
                {
                    "output_type": "execute_result",
                    "execution_count": 1,
                    "data": {
                        "text/plain": "     Name  English  Urdu  Hindi  Math  History  Total\n0  Arshad       95    94     94    85       86    454\n1  Nadeem       91    85     95    84       91    446\n2  Zaheer       94    87     98    89       91    459\n3  Nayyer       93    79     97    90       84    443\n4   Afroz       98    82     96    87       86    449",
                        "text/html": "<div>\n<style scoped>\n    .dataframe tbody tr th:only-of-type {\n        vertical-align: middle;\n    }\n\n    .dataframe tbody tr th {\n        vertical-align: top;\n    }\n\n    .dataframe thead th {\n        text-align: right;\n    }\n</style>\n<table border=\"1\" class=\"dataframe\">\n  <thead>\n    <tr style=\"text-align: right;\">\n      <th></th>\n      <th>Name</th>\n      <th>English</th>\n      <th>Urdu</th>\n      <th>Hindi</th>\n      <th>Math</th>\n      <th>History</th>\n      <th>Total</th>\n    </tr>\n  </thead>\n  <tbody>\n    <tr>\n      <th>0</th>\n      <td>Arshad</td>\n      <td>95</td>\n      <td>94</td>\n      <td>94</td>\n      <td>85</td>\n      <td>86</td>\n      <td>454</td>\n    </tr>\n    <tr>\n      <th>1</th>\n      <td>Nadeem</td>\n      <td>91</td>\n      <td>85</td>\n      <td>95</td>\n      <td>84</td>\n      <td>91</td>\n      <td>446</td>\n    </tr>\n    <tr>\n      <th>2</th>\n      <td>Zaheer</td>\n      <td>94</td>\n      <td>87</td>\n      <td>98</td>\n      <td>89</td>\n      <td>91</td>\n      <td>459</td>\n    </tr>\n    <tr>\n      <th>3</th>\n      <td>Nayyer</td>\n      <td>93</td>\n      <td>79</td>\n      <td>97</td>\n      <td>90</td>\n      <td>84</td>\n      <td>443</td>\n    </tr>\n    <tr>\n      <th>4</th>\n      <td>Afroz</td>\n      <td>98</td>\n      <td>82</td>\n      <td>96</td>\n      <td>87</td>\n      <td>86</td>\n      <td>449</td>\n    </tr>\n  </tbody>\n</table>\n</div>"
                    },
                    "metadata": {}
                }
            ]
        },
        {
            "metadata": {},
            "cell_type": "code",
            "source": "",
            "execution_count": null,
            "outputs": []
        }
    ],
    "metadata": {
        "kernelspec": {
            "name": "python3",
            "display_name": "Python 3.10",
            "language": "python"
        },
        "language_info": {
            "name": "python",
            "version": "3.10.13",
            "mimetype": "text/x-python",
            "codemirror_mode": {
                "name": "ipython",
                "version": 3
            },
            "pygments_lexer": "ipython3",
            "nbconvert_exporter": "python",
            "file_extension": ".py"
        }
    },
    "nbformat": 4,
    "nbformat_minor": 1
}